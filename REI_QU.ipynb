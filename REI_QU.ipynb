{
  "nbformat": 4,
  "nbformat_minor": 0,
  "metadata": {
    "colab": {
      "provenance": [],
      "authorship_tag": "ABX9TyNnVO5+rIxGL5Bz+JWxMEYh",
      "include_colab_link": true
    },
    "kernelspec": {
      "name": "python3",
      "display_name": "Python 3"
    },
    "language_info": {
      "name": "python"
    }
  },
  "cells": [
    {
      "cell_type": "markdown",
      "metadata": {
        "id": "view-in-github",
        "colab_type": "text"
      },
      "source": [
        "<a href=\"https://colab.research.google.com/github/mohitraosatya/rei-quantum-uc/blob/main/REI_QU.ipynb\" target=\"_parent\"><img src=\"https://colab.research.google.com/assets/colab-badge.svg\" alt=\"Open In Colab\"/></a>"
      ]
    },
    {
      "cell_type": "code",
      "execution_count": 20,
      "metadata": {
        "colab": {
          "base_uri": "https://localhost:8080/"
        },
        "id": "1hVXbzEmqSAo",
        "outputId": "33e61548-5e43-4980-b275-30a480fb4e1f"
      },
      "outputs": [
        {
          "output_type": "stream",
          "name": "stdout",
          "text": [
            "\u001b[2K     \u001b[90m━━━━━━━━━━━━━━━━━━━━━━━━━━━━━━━━━━━━━━━━\u001b[0m \u001b[32m57.0/57.0 kB\u001b[0m \u001b[31m1.8 MB/s\u001b[0m eta \u001b[36m0:00:00\u001b[0m\n",
            "\u001b[2K   \u001b[90m━━━━━━━━━━━━━━━━━━━━━━━━━━━━━━━━━━━━━━━━\u001b[0m \u001b[32m44.3/44.3 MB\u001b[0m \u001b[31m14.0 MB/s\u001b[0m eta \u001b[36m0:00:00\u001b[0m\n",
            "\u001b[2K   \u001b[90m━━━━━━━━━━━━━━━━━━━━━━━━━━━━━━━━━━━━━━━━\u001b[0m \u001b[32m14.4/14.4 MB\u001b[0m \u001b[31m70.3 MB/s\u001b[0m eta \u001b[36m0:00:00\u001b[0m\n",
            "\u001b[?25h\u001b[33mWARNING: qiskit-optimization 0.6.1 does not provide the extra 'dwave'\u001b[0m\u001b[33m\n",
            "\u001b[0m"
          ]
        }
      ],
      "source": [
        "!pip install qiskit qiskit-optimization --quiet\n",
        "!pip install qiskit-optimization[cplex] --quiet\n",
        "!pip install qiskit-optimization[gurobi] --quiet\n",
        "!pip install qiskit-optimization[dwave] --quiet"
      ]
    },
    {
      "cell_type": "code",
      "source": [
        "pip install qiskit-aer"
      ],
      "metadata": {
        "colab": {
          "base_uri": "https://localhost:8080/"
        },
        "id": "1MqO1vmHtOee",
        "outputId": "0ce0b61c-1005-40f7-bc54-7718d80473e6"
      },
      "execution_count": 37,
      "outputs": [
        {
          "output_type": "stream",
          "name": "stdout",
          "text": [
            "Collecting qiskit-aer\n",
            "  Downloading qiskit_aer-0.17.0-cp311-cp311-manylinux_2_17_x86_64.manylinux2014_x86_64.whl.metadata (8.2 kB)\n",
            "Requirement already satisfied: qiskit>=1.1.0 in /usr/local/lib/python3.11/dist-packages (from qiskit-aer) (1.4.2)\n",
            "Requirement already satisfied: numpy>=1.16.3 in /usr/local/lib/python3.11/dist-packages (from qiskit-aer) (2.0.2)\n",
            "Requirement already satisfied: scipy>=1.0 in /usr/local/lib/python3.11/dist-packages (from qiskit-aer) (1.14.1)\n",
            "Requirement already satisfied: psutil>=5 in /usr/local/lib/python3.11/dist-packages (from qiskit-aer) (5.9.5)\n",
            "Requirement already satisfied: rustworkx>=0.15.0 in /usr/local/lib/python3.11/dist-packages (from qiskit>=1.1.0->qiskit-aer) (0.16.0)\n",
            "Requirement already satisfied: sympy>=1.3 in /usr/local/lib/python3.11/dist-packages (from qiskit>=1.1.0->qiskit-aer) (1.13.1)\n",
            "Requirement already satisfied: dill>=0.3 in /usr/local/lib/python3.11/dist-packages (from qiskit>=1.1.0->qiskit-aer) (0.3.9)\n",
            "Requirement already satisfied: python-dateutil>=2.8.0 in /usr/local/lib/python3.11/dist-packages (from qiskit>=1.1.0->qiskit-aer) (2.8.2)\n",
            "Requirement already satisfied: stevedore>=3.0.0 in /usr/local/lib/python3.11/dist-packages (from qiskit>=1.1.0->qiskit-aer) (5.4.1)\n",
            "Requirement already satisfied: typing-extensions in /usr/local/lib/python3.11/dist-packages (from qiskit>=1.1.0->qiskit-aer) (4.12.2)\n",
            "Requirement already satisfied: symengine<0.14,>=0.11 in /usr/local/lib/python3.11/dist-packages (from qiskit>=1.1.0->qiskit-aer) (0.13.0)\n",
            "Requirement already satisfied: six>=1.5 in /usr/local/lib/python3.11/dist-packages (from python-dateutil>=2.8.0->qiskit>=1.1.0->qiskit-aer) (1.17.0)\n",
            "Requirement already satisfied: pbr>=2.0.0 in /usr/local/lib/python3.11/dist-packages (from stevedore>=3.0.0->qiskit>=1.1.0->qiskit-aer) (6.1.1)\n",
            "Requirement already satisfied: mpmath<1.4,>=1.1.0 in /usr/local/lib/python3.11/dist-packages (from sympy>=1.3->qiskit>=1.1.0->qiskit-aer) (1.3.0)\n",
            "Requirement already satisfied: setuptools in /usr/local/lib/python3.11/dist-packages (from pbr>=2.0.0->stevedore>=3.0.0->qiskit>=1.1.0->qiskit-aer) (75.1.0)\n",
            "Downloading qiskit_aer-0.17.0-cp311-cp311-manylinux_2_17_x86_64.manylinux2014_x86_64.whl (12.4 MB)\n",
            "\u001b[2K   \u001b[90m━━━━━━━━━━━━━━━━━━━━━━━━━━━━━━━━━━━━━━━━\u001b[0m \u001b[32m12.4/12.4 MB\u001b[0m \u001b[31m58.8 MB/s\u001b[0m eta \u001b[36m0:00:00\u001b[0m\n",
            "\u001b[?25hInstalling collected packages: qiskit-aer\n",
            "Successfully installed qiskit-aer-0.17.0\n"
          ]
        }
      ]
    },
    {
      "cell_type": "code",
      "source": [
        "!pip install qiskit-utils"
      ],
      "metadata": {
        "colab": {
          "base_uri": "https://localhost:8080/"
        },
        "id": "jYOUQKGrw1sF",
        "outputId": "f6a77c6c-621a-44c8-ec22-ae7f5e9212e2"
      },
      "execution_count": 68,
      "outputs": [
        {
          "output_type": "stream",
          "name": "stdout",
          "text": [
            "Requirement already satisfied: qiskit-utils in /usr/local/lib/python3.11/dist-packages (1.2.1)\n",
            "Requirement already satisfied: qiskit>=0.34.2 in /usr/local/lib/python3.11/dist-packages (from qiskit-utils) (1.4.2)\n",
            "Requirement already satisfied: rustworkx>=0.15.0 in /usr/local/lib/python3.11/dist-packages (from qiskit>=0.34.2->qiskit-utils) (0.16.0)\n",
            "Requirement already satisfied: numpy<3,>=1.17 in /usr/local/lib/python3.11/dist-packages (from qiskit>=0.34.2->qiskit-utils) (2.0.2)\n",
            "Requirement already satisfied: scipy>=1.5 in /usr/local/lib/python3.11/dist-packages (from qiskit>=0.34.2->qiskit-utils) (1.14.1)\n",
            "Requirement already satisfied: sympy>=1.3 in /usr/local/lib/python3.11/dist-packages (from qiskit>=0.34.2->qiskit-utils) (1.13.1)\n",
            "Requirement already satisfied: dill>=0.3 in /usr/local/lib/python3.11/dist-packages (from qiskit>=0.34.2->qiskit-utils) (0.3.9)\n",
            "Requirement already satisfied: python-dateutil>=2.8.0 in /usr/local/lib/python3.11/dist-packages (from qiskit>=0.34.2->qiskit-utils) (2.8.2)\n",
            "Requirement already satisfied: stevedore>=3.0.0 in /usr/local/lib/python3.11/dist-packages (from qiskit>=0.34.2->qiskit-utils) (5.4.1)\n",
            "Requirement already satisfied: typing-extensions in /usr/local/lib/python3.11/dist-packages (from qiskit>=0.34.2->qiskit-utils) (4.12.2)\n",
            "Requirement already satisfied: symengine<0.14,>=0.11 in /usr/local/lib/python3.11/dist-packages (from qiskit>=0.34.2->qiskit-utils) (0.13.0)\n",
            "Requirement already satisfied: six>=1.5 in /usr/local/lib/python3.11/dist-packages (from python-dateutil>=2.8.0->qiskit>=0.34.2->qiskit-utils) (1.17.0)\n",
            "Requirement already satisfied: pbr>=2.0.0 in /usr/local/lib/python3.11/dist-packages (from stevedore>=3.0.0->qiskit>=0.34.2->qiskit-utils) (6.1.1)\n",
            "Requirement already satisfied: mpmath<1.4,>=1.1.0 in /usr/local/lib/python3.11/dist-packages (from sympy>=1.3->qiskit>=0.34.2->qiskit-utils) (1.3.0)\n",
            "Requirement already satisfied: setuptools in /usr/local/lib/python3.11/dist-packages (from pbr>=2.0.0->stevedore>=3.0.0->qiskit>=0.34.2->qiskit-utils) (75.1.0)\n"
          ]
        }
      ]
    },
    {
      "cell_type": "code",
      "source": [
        "import numpy as np\n",
        "from qiskit_aer import Aer\n",
        "from qiskit.primitives import Sampler\n",
        "from qiskit_algorithms import QAOA\n",
        "from qiskit_optimization import QuadraticProgram\n",
        "from qiskit_optimization.algorithms import MinimumEigenOptimizer\n",
        "from qiskit_algorithms.optimizers import COBYLA\n",
        "\n",
        "\n",
        "# For visualization\n",
        "import matplotlib.pyplot as plt\n",
        "\n"
      ],
      "metadata": {
        "id": "ggvIwi5fqTOp"
      },
      "execution_count": 92,
      "outputs": []
    },
    {
      "cell_type": "code",
      "source": [
        "# Problem parameters\n",
        "demand = 50\n",
        "costs = np.array([40, 25, 55])\n",
        "capacities = np.array([30, 20, 40])\n",
        "A = 100  # Penalty coefficient\n",
        "\n",
        "num_generators = len(costs)\n",
        "print(f\"Number of generators: {num_generators}\")\n",
        "print(f\"Demand: {demand} MW\")\n",
        "print(\"Generator details:\")\n",
        "for i in range(num_generators):\n",
        "    print(f\"  Generator {i+1}: {capacities[i]} MW, cost = {costs[i]}\")"
      ],
      "metadata": {
        "colab": {
          "base_uri": "https://localhost:8080/"
        },
        "id": "uYipY0rXqVOV",
        "outputId": "b0a21792-3057-4708-b9c8-9dd59e6d20e7"
      },
      "execution_count": 70,
      "outputs": [
        {
          "output_type": "stream",
          "name": "stdout",
          "text": [
            "Number of generators: 3\n",
            "Demand: 50 MW\n",
            "Generator details:\n",
            "  Generator 1: 30 MW, cost = 40\n",
            "  Generator 2: 20 MW, cost = 25\n",
            "  Generator 3: 40 MW, cost = 55\n"
          ]
        }
      ]
    },
    {
      "cell_type": "code",
      "source": [
        "# Initialize QUBO coefficients\n",
        "linear = {}\n",
        "quadratic = {}\n",
        "\n",
        "for i in range(num_generators):\n",
        "    # Compute linear coefficient for x_i\n",
        "    linear[i] = costs[i] - 2 * A * demand * capacities[i] + A * (capacities[i] ** 2)\n",
        "\n",
        "for i in range(num_generators):\n",
        "    for j in range(i+1, num_generators):\n",
        "        quadratic[(i, j)] = 2 * A * capacities[i] * capacities[j]\n",
        "\n",
        "print(\"Linear coefficients (Q_ii):\")\n",
        "for i in range(num_generators):\n",
        "    print(f\"  Q[{i},{i}] = {linear[i]}\")\n",
        "\n",
        "print(\"\\nQuadratic coefficients (Q_ij) for i<j:\")\n",
        "for key, value in quadratic.items():\n",
        "    print(f\"  Q{key} = {value}\")"
      ],
      "metadata": {
        "colab": {
          "base_uri": "https://localhost:8080/"
        },
        "id": "pV-s9tYUqXmL",
        "outputId": "40c9daab-4b20-41e6-8041-f6d33d327b98"
      },
      "execution_count": 71,
      "outputs": [
        {
          "output_type": "stream",
          "name": "stdout",
          "text": [
            "Linear coefficients (Q_ii):\n",
            "  Q[0,0] = -209960\n",
            "  Q[1,1] = -159975\n",
            "  Q[2,2] = -239945\n",
            "\n",
            "Quadratic coefficients (Q_ij) for i<j:\n",
            "  Q(0, 1) = 120000\n",
            "  Q(0, 2) = 240000\n",
            "  Q(1, 2) = 160000\n"
          ]
        }
      ]
    },
    {
      "cell_type": "code",
      "source": [
        "# Create a QuadraticProgram instance\n",
        "qp = QuadraticProgram(\"Unit_Commitment\")\n",
        "\n",
        "# Add binary variables for each generator\n",
        "for i in range(num_generators):\n",
        "    qp.binary_var(name=f\"x{i}\")\n",
        "\n",
        "# Set up the objective: minimize the QUBO function.\n",
        "# Note: Qiskit's QuadraticProgram minimizes a quadratic function of the form:\n",
        "#   f(x) = sum_i c_i x_i + sum_{i<j} Q_ij x_i x_j\n",
        "# We add the linear and quadratic terms computed earlier.\n",
        "qp.minimize(linear=linear, quadratic=quadratic)\n",
        "\n",
        "# (Optional) Print the problem formulation\n",
        "print(qp.export_as_lp_string())"
      ],
      "metadata": {
        "colab": {
          "base_uri": "https://localhost:8080/"
        },
        "id": "vBwiOW59qrZg",
        "outputId": "da35157a-e9c3-43c3-f8d3-9e551d5021d7"
      },
      "execution_count": 72,
      "outputs": [
        {
          "output_type": "stream",
          "name": "stdout",
          "text": [
            "\\ This file has been generated by DOcplex\n",
            "\\ ENCODING=ISO-8859-1\n",
            "\\Problem name: Unit_Commitment\n",
            "\n",
            "Minimize\n",
            " obj: - 209960 x0 - 159975 x1 - 239945 x2 + [ 240000 x0*x1 + 480000 x0*x2\n",
            "      + 320000 x1*x2 ]/2\n",
            "Subject To\n",
            "\n",
            "Bounds\n",
            " 0 <= x0 <= 1\n",
            " 0 <= x1 <= 1\n",
            " 0 <= x2 <= 1\n",
            "\n",
            "Binaries\n",
            " x0 x1 x2\n",
            "End\n",
            "\n"
          ]
        }
      ]
    },
    {
      "cell_type": "code",
      "source": [
        "# Use the classical optimizer to solve the problem (brute-force for small problems)\n",
        "from qiskit_optimization.problems import QuadraticProgram\n",
        "from qiskit_optimization.algorithms import CplexOptimizer\n",
        "\n",
        "try:\n",
        "    classical_optimizer = CplexOptimizer()\n",
        "    classical_result = classical_optimizer.solve(qp)\n",
        "    print(\"Classical optimizer result:\")\n",
        "    print(classical_result)\n",
        "except Exception as e:\n",
        "    # If CPLEX is not available, fall back to a built-in exact solver (for very small problems)\n",
        "    print(\"CplexOptimizer not available; using exact solver instead.\")\n",
        "    from qiskit_optimization.algorithms import MinimumEigenOptimizer\n",
        "    from qiskit_algorithms import NumPyMinimumEigensolver\n",
        "\n",
        "    exact_solver = MinimumEigenOptimizer(NumPyMinimumEigensolver())\n",
        "    classical_result = exact_solver.solve(qp)\n",
        "    print(classical_result)\n"
      ],
      "metadata": {
        "colab": {
          "base_uri": "https://localhost:8080/"
        },
        "id": "xFrRmvYbqvJK",
        "outputId": "a61788ca-19f9-42d8-c470-8741a794facf"
      },
      "execution_count": 73,
      "outputs": [
        {
          "output_type": "stream",
          "name": "stdout",
          "text": [
            "CplexOptimizer not available; using exact solver instead.\n",
            "fval=-249935.0, x0=1.0, x1=1.0, x2=0.0, status=SUCCESS\n"
          ]
        }
      ]
    },
    {
      "cell_type": "code",
      "source": [
        "# Cell 7: Set Up QAOA to Solve the Problem Quantum–Mechanically\n",
        "\n",
        "from qiskit_aer import AerSimulator\n",
        "\n",
        "# Create the simulator backend directly\n",
        "quantum_instance = AerSimulator()\n",
        "\n",
        "# Set up the COBYLA optimizer (you can tweak maxiter for more precision)\n",
        "from qiskit_algorithms.optimizers import COBYLA\n",
        "sampler = Sampler()\n",
        "optimizer = COBYLA(maxiter=250)\n",
        "\n",
        "# Set up QAOA with a small depth (reps=1) for demonstration purposes\n",
        "from qiskit_algorithms import QAOA\n",
        "qaoa = QAOA(optimizer=optimizer, reps=1, sampler=sampler)\n",
        "\n",
        "# Set the backend directly on the QAOA instance\n",
        "qaoa.backend = quantum_instance\n",
        "\n",
        "# Wrap QAOA in the MinimumEigenOptimizer to solve our optimization problem\n",
        "from qiskit_optimization.algorithms import MinimumEigenOptimizer\n",
        "qaoa_optimizer = MinimumEigenOptimizer(qaoa)\n",
        "\n",
        "print(\"QAOA has been set up successfully!\")\n"
      ],
      "metadata": {
        "colab": {
          "base_uri": "https://localhost:8080/"
        },
        "id": "NX7h2iukvcMV",
        "outputId": "d0105258-8bf2-4ceb-e9a1-ffa6266f1874"
      },
      "execution_count": 111,
      "outputs": [
        {
          "output_type": "stream",
          "name": "stdout",
          "text": [
            "QAOA has been set up successfully!\n"
          ]
        },
        {
          "output_type": "stream",
          "name": "stderr",
          "text": [
            "<ipython-input-111-188e76285cdf>:10: DeprecationWarning: The class ``qiskit.primitives.sampler.Sampler`` is deprecated as of qiskit 1.2. It will be removed no earlier than 3 months after the release date. All implementations of the `BaseSamplerV1` interface have been deprecated in favor of their V2 counterparts. The V2 alternative for the `Sampler` class is `StatevectorSampler`.\n",
            "  sampler = Sampler()\n"
          ]
        }
      ]
    },
    {
      "cell_type": "code",
      "source": [
        "# Cell 8: Solve the QUBO Using QAOA and Display the Results\n",
        "\n",
        "# Solve the problem using QAOA via the MinimumEigenOptimizer\n",
        "qaoa_result = qaoa_optimizer.solve(qp)\n",
        "print(\"QAOA optimizer result:\")\n",
        "print(qaoa_result)\n",
        "\n",
        "# Interpret the solution: the decision vector indicates which generators are 'on'\n",
        "solution = qaoa_result.x\n",
        "selected_generators = [i+1 for i, val in enumerate(solution) if round(val) == 1]\n",
        "print(\"\\nSelected Generators (by index):\", selected_generators)\n",
        "\n",
        "# Calculate total capacity and cost based on the selected generators\n",
        "total_capacity = sum(capacities[i] for i, val in enumerate(solution) if round(val) == 1)\n",
        "total_cost = sum(costs[i] for i, val in enumerate(solution) if round(val) == 1)\n",
        "\n",
        "print(f\"\\nTotal capacity: {total_capacity} MW (Demand = {demand} MW)\")\n",
        "print(f\"Total cost: ${total_cost}\")\n",
        "\n"
      ],
      "metadata": {
        "colab": {
          "base_uri": "https://localhost:8080/"
        },
        "id": "04fXfFg404uT",
        "outputId": "eb237562-c0b5-42cf-a0c3-5f8ba2852dec"
      },
      "execution_count": 112,
      "outputs": [
        {
          "output_type": "stream",
          "name": "stdout",
          "text": [
            "QAOA optimizer result:\n",
            "fval=-249935.0, x0=1.0, x1=1.0, x2=0.0, status=SUCCESS\n",
            "\n",
            "Selected Generators (by index): [1, 2]\n",
            "\n",
            "Total capacity: 50 MW (Demand = 50 MW)\n",
            "Total cost: $65\n"
          ]
        }
      ]
    },
    {
      "cell_type": "code",
      "source": [
        "# Plot a bar chart of the generator selection\n",
        "plt.figure(figsize=(6,4))\n",
        "plt.bar(range(1, num_generators+1), solution, tick_label=[f\"G{i+1}\" for i in range(num_generators)], color='skyblue')\n",
        "plt.xlabel(\"Generator\")\n",
        "plt.ylabel(\"Selection (1 = On, 0 = Off)\")\n",
        "plt.title(\"Quantum Unit Commitment Decision\")\n",
        "plt.ylim(0, 1.2)\n",
        "plt.show()\n"
      ],
      "metadata": {
        "colab": {
          "base_uri": "https://localhost:8080/",
          "height": 410
        },
        "id": "WdriRGtK3n_I",
        "outputId": "9ec4b9c7-2a4d-4fbe-c479-b4adae1604c9"
      },
      "execution_count": 113,
      "outputs": [
        {
          "output_type": "display_data",
          "data": {
            "text/plain": [
              "<Figure size 600x400 with 1 Axes>"
            ],
            "image/png": "[encoded data removed]"
          },
          "metadata": {}
        }
      ]
    }
  ]
}